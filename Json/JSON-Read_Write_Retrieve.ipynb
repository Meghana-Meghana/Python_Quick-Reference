{
 "cells": [
  {
   "cell_type": "code",
   "execution_count": 1,
   "metadata": {},
   "outputs": [],
   "source": [
    "# This is a built-in json package. \n",
    "# It offers functions for transforming a Python dict object into a serialised JSON string.\n",
    "\n",
    "import json "
   ]
  },
  {
   "cell_type": "markdown",
   "metadata": {},
   "source": [
    "# Define a Dictionary"
   ]
  },
  {
   "cell_type": "code",
   "execution_count": 2,
   "metadata": {},
   "outputs": [],
   "source": [
    "data = {}                # dictionary initialization\n",
    "data['people'] = []      # key : list of values\n",
    "data['people'].append({\n",
    "    'name': 'Tom',\n",
    "    'company': 'Google',\n",
    "    'from': 'Germany'\n",
    "})\n",
    "data['people'].append({\n",
    "    'name': 'James',\n",
    "    'company': 'Facebook',\n",
    "    'from': 'Italy'\n",
    "})\n",
    "data['people'].append({\n",
    "    'name': 'Jenny',\n",
    "    'company': 'Twitter',\n",
    "    'from': 'Sweden'\n",
    "})\n",
    "\n",
    "data['students'] = []    # key : list of values\n",
    "data['students'].append({\n",
    "    'name': 'Rick',\n",
    "    'university': 'Cambridge University',\n",
    "    'from': 'Cambridge'\n",
    "})\n",
    "data['students'].append({\n",
    "    'name': 'Mörty',\n",
    "    'university': 'Oxford University',\n",
    "    'from': 'Oxford'\n",
    "})"
   ]
  },
  {
   "cell_type": "markdown",
   "metadata": {},
   "source": [
    "# Write Operation\n",
    "\n",
    "The json package offers two functions for writing: **json.dumps** and **json.dump**.\n",
    "\n",
    "1) **json.dumps** returns the actual JSON string instead of sending it directly to a writable object. <br>\n",
    "2) **json.dump** writes a dict object to a file.\n",
    "\n",
    "## a) Write to a Standard Output"
   ]
  },
  {
   "cell_type": "code",
   "execution_count": 3,
   "metadata": {},
   "outputs": [
    {
     "name": "stdout",
     "output_type": "stream",
     "text": [
      "{\"people\": [{\"name\": \"Tom\", \"company\": \"Google\", \"from\": \"Germany\"}, {\"name\": \"James\", \"company\": \"Facebook\", \"from\": \"Italy\"}, {\"name\": \"Jenny\", \"company\": \"Twitter\", \"from\": \"Sweden\"}], \"students\": [{\"name\": \"Rick\", \"university\": \"Cambridge University\", \"from\": \"Cambridge\"}, {\"name\": \"M\\u00f6rty\", \"university\": \"Oxford University\", \"from\": \"Oxford\"}]}\n"
     ]
    }
   ],
   "source": [
    "print(json.dumps(data))"
   ]
  },
  {
   "cell_type": "markdown",
   "metadata": {},
   "source": [
    "**Two problems in the above output:**\n",
    "\n",
    "1) It is not in a readable format i.e., the indentations are missing. <br>\n",
    "2) The text is ASCII encoded. \"Mörty\" is displayed as \"M\\u00f6rty\". The UNICODE symbols are ascii-encoded.\n",
    "\n",
    "Both these problems are resolved below by setting the parameters ***indent*** and ***ensure_ascii***."
   ]
  },
  {
   "cell_type": "code",
   "execution_count": 4,
   "metadata": {},
   "outputs": [
    {
     "name": "stdout",
     "output_type": "stream",
     "text": [
      "{\n",
      "  \"people\": [\n",
      "    {\n",
      "      \"name\": \"Tom\",\n",
      "      \"company\": \"Google\",\n",
      "      \"from\": \"Germany\"\n",
      "    },\n",
      "    {\n",
      "      \"name\": \"James\",\n",
      "      \"company\": \"Facebook\",\n",
      "      \"from\": \"Italy\"\n",
      "    },\n",
      "    {\n",
      "      \"name\": \"Jenny\",\n",
      "      \"company\": \"Twitter\",\n",
      "      \"from\": \"Sweden\"\n",
      "    }\n",
      "  ],\n",
      "  \"students\": [\n",
      "    {\n",
      "      \"name\": \"Rick\",\n",
      "      \"university\": \"Cambridge University\",\n",
      "      \"from\": \"Cambridge\"\n",
      "    },\n",
      "    {\n",
      "      \"name\": \"Mörty\",\n",
      "      \"university\": \"Oxford University\",\n",
      "      \"from\": \"Oxford\"\n",
      "    }\n",
      "  ]\n",
      "}\n"
     ]
    }
   ],
   "source": [
    "print(json.dumps(data, indent=2, ensure_ascii=False)) "
   ]
  },
  {
   "cell_type": "markdown",
   "metadata": {},
   "source": [
    "## b) Write to a File"
   ]
  },
  {
   "cell_type": "code",
   "execution_count": 5,
   "metadata": {},
   "outputs": [],
   "source": [
    "with open('data.json', 'w') as outfile:                       # open a file in write mode\n",
    "    json.dump(data, outfile, indent=4, ensure_ascii=False)    # write to a file\n",
    "outfile.close()                                               # close the file"
   ]
  },
  {
   "cell_type": "markdown",
   "metadata": {},
   "source": [
    "# Read Operation"
   ]
  },
  {
   "cell_type": "code",
   "execution_count": 6,
   "metadata": {},
   "outputs": [],
   "source": [
    "with open('data.json', 'r') as infile:   # open a file in read mode\n",
    "    test_data = json.load(infile)        # read from a file\n",
    "infile.close()                           # close the file"
   ]
  },
  {
   "cell_type": "code",
   "execution_count": 7,
   "metadata": {},
   "outputs": [
    {
     "data": {
      "text/plain": [
       "{'people': [{'name': 'Tom', 'company': 'Google', 'from': 'Germany'},\n",
       "  {'name': 'James', 'company': 'Facebook', 'from': 'Italy'},\n",
       "  {'name': 'Jenny', 'company': 'Twitter', 'from': 'Sweden'}],\n",
       " 'students': [{'name': 'Rick',\n",
       "   'university': 'Cambridge University',\n",
       "   'from': 'Cambridge'},\n",
       "  {'name': 'Mörty', 'university': 'Oxford University', 'from': 'Oxford'}]}"
      ]
     },
     "execution_count": 7,
     "metadata": {},
     "output_type": "execute_result"
    }
   ],
   "source": [
    "test_data"
   ]
  },
  {
   "cell_type": "markdown",
   "metadata": {},
   "source": [
    "# Retrieve Operations"
   ]
  },
  {
   "cell_type": "code",
   "execution_count": 8,
   "metadata": {},
   "outputs": [
    {
     "data": {
      "text/plain": [
       "dict_items([('people', [{'name': 'Tom', 'company': 'Google', 'from': 'Germany'}, {'name': 'James', 'company': 'Facebook', 'from': 'Italy'}, {'name': 'Jenny', 'company': 'Twitter', 'from': 'Sweden'}]), ('students', [{'name': 'Rick', 'university': 'Cambridge University', 'from': 'Cambridge'}, {'name': 'Mörty', 'university': 'Oxford University', 'from': 'Oxford'}])])"
      ]
     },
     "execution_count": 8,
     "metadata": {},
     "output_type": "execute_result"
    }
   ],
   "source": [
    "test_data.items()"
   ]
  },
  {
   "cell_type": "code",
   "execution_count": 9,
   "metadata": {},
   "outputs": [
    {
     "data": {
      "text/plain": [
       "dict_keys(['people', 'students'])"
      ]
     },
     "execution_count": 9,
     "metadata": {},
     "output_type": "execute_result"
    }
   ],
   "source": [
    "test_data.keys()"
   ]
  },
  {
   "cell_type": "code",
   "execution_count": 10,
   "metadata": {},
   "outputs": [
    {
     "data": {
      "text/plain": [
       "dict_values([[{'name': 'Tom', 'company': 'Google', 'from': 'Germany'}, {'name': 'James', 'company': 'Facebook', 'from': 'Italy'}, {'name': 'Jenny', 'company': 'Twitter', 'from': 'Sweden'}], [{'name': 'Rick', 'university': 'Cambridge University', 'from': 'Cambridge'}, {'name': 'Mörty', 'university': 'Oxford University', 'from': 'Oxford'}]])"
      ]
     },
     "execution_count": 10,
     "metadata": {},
     "output_type": "execute_result"
    }
   ],
   "source": [
    "test_data.values()"
   ]
  },
  {
   "cell_type": "code",
   "execution_count": 11,
   "metadata": {},
   "outputs": [
    {
     "data": {
      "text/plain": [
       "{'name': 'Jenny', 'company': 'Twitter', 'from': 'Sweden'}"
      ]
     },
     "execution_count": 11,
     "metadata": {},
     "output_type": "execute_result"
    }
   ],
   "source": [
    "test_data[\"people\"][2]"
   ]
  },
  {
   "cell_type": "code",
   "execution_count": 12,
   "metadata": {},
   "outputs": [
    {
     "data": {
      "text/plain": [
       "dict_keys(['name', 'company', 'from'])"
      ]
     },
     "execution_count": 12,
     "metadata": {},
     "output_type": "execute_result"
    }
   ],
   "source": [
    "test_data[\"people\"][2].keys()"
   ]
  },
  {
   "cell_type": "code",
   "execution_count": null,
   "metadata": {},
   "outputs": [],
   "source": []
  }
 ],
 "metadata": {
  "kernelspec": {
   "display_name": "Python 3",
   "language": "python",
   "name": "python3"
  },
  "language_info": {
   "codemirror_mode": {
    "name": "ipython",
    "version": 3
   },
   "file_extension": ".py",
   "mimetype": "text/x-python",
   "name": "python",
   "nbconvert_exporter": "python",
   "pygments_lexer": "ipython3",
   "version": "3.8.2"
  }
 },
 "nbformat": 4,
 "nbformat_minor": 4
}
